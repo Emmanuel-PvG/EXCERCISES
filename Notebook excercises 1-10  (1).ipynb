{
 "cells": [
  {
   "cell_type": "markdown",
   "metadata": {},
   "source": [
    "# EXCERCISE 1"
   ]
  },
  {
   "cell_type": "markdown",
   "metadata": {},
   "source": [
    "## A GOOD FIRST PROGRAM"
   ]
  },
  {
   "cell_type": "markdown",
   "metadata": {},
   "source": [
    "In this example it is intended to teach what an already executed program should look like.\n",
    "mentions the most common mistakes at the time of writing a program and how to correct it."
   ]
  },
  {
   "cell_type": "code",
   "execution_count": 3,
   "metadata": {},
   "outputs": [
    {
     "name": "stdout",
     "output_type": "stream",
     "text": [
      "I love my dog\n",
      "I like watching movies\n",
      "let's Dance\n",
      "this is not so difficult\n",
      "I'm running out of ideas\n",
      "I do not know what to write\n",
      "Peace\n"
     ]
    }
   ],
   "source": [
    "print(\"I love my dog\")\n",
    "print(\"I like watching movies\")\n",
    "print(\"let's Dance\")\n",
    "print(\"this is not so difficult\")\n",
    "print(\"I'm running out of ideas\")\n",
    "print(\"I do not know what to write\")\n",
    "print(\"Peace\")"
   ]
  },
  {
   "cell_type": "markdown",
   "metadata": {},
   "source": [
    "# EXCERCISE 2"
   ]
  },
  {
   "cell_type": "markdown",
   "metadata": {},
   "source": [
    "## COMMENTS AND POUND CHARACTERS"
   ]
  },
  {
   "cell_type": "markdown",
   "metadata": {},
   "source": [
    "Comments are very important in our programs, they serve to make notes about what we are doing and remember why, also to indicate the parts in your program that sometimes have to be temporarily withdrawn.\n",
    "\n",
    "Comments go after the \"#\" because whatever is put after this is ignored when running the program."
   ]
  },
  {
   "cell_type": "code",
   "execution_count": 5,
   "metadata": {},
   "outputs": [
    {
     "name": "stdout",
     "output_type": "stream",
     "text": [
      "salsa\n",
      "salsa que pica\n"
     ]
    }
   ],
   "source": [
    "# I can put the comment about something important in my program and read it later\n",
    "# You can see that what I put will not appear at the time of running the program\n",
    "print(\"salsa\") # what I put here is not going to see\n",
    "# We can write many things about what we do, small notes to remember because we put the commands or some instruction\n",
    "# I can even put a command without being executed, like this\n",
    "# print(\"salsa que no pica\")\n",
    "# And then put one that will be executed\n",
    "print(\"salsa que pica\")"
   ]
  },
  {
   "cell_type": "markdown",
   "metadata": {},
   "source": [
    "# EXCERCISE 3"
   ]
  },
  {
   "cell_type": "markdown",
   "metadata": {},
   "source": [
    "## NUMBERS AND MATH"
   ]
  },
  {
   "cell_type": "markdown",
   "metadata": {},
   "source": [
    "All kinds of programs have their form to perform mathematical operations, which are usually not so different;  here we will see the symbols that are used and their names:\n",
    "\n",
    "•\t+ Plus\n",
    "\n",
    "•\t- Minus\n",
    "\n",
    "•\t/ Slash\n",
    "\n",
    "•\t* Asterisk\n",
    "\n",
    "•\t% Percent\n",
    "\n",
    "•\t< Less-than\n",
    "\n",
    "•\t> Greater-than\n",
    "\n",
    "•\t<= Less-than-equal\n",
    "\n",
    "•\t>= Greater-than-equal\n",
    "\n",
    "Below is a program with some of these operations\n"
   ]
  },
  {
   "cell_type": "code",
   "execution_count": 24,
   "metadata": {},
   "outputs": [
    {
     "name": "stdout",
     "output_type": "stream",
     "text": [
      "To check how much makeup I have\n",
      "Lipstick 103\n",
      "Eyeliners 13.5\n",
      "Concealers 11\n",
      "Now the brushes\n",
      "12.0\n",
      "Now let's look at other cases.\n",
      "3+2<6+8 true or false?\n",
      "True\n",
      "whats is 3+2? 5\n",
      "what is 6+8? 14\n",
      "Better a bigger operation 15+16+21-3*66+75/2+300 = 191.5\n"
     ]
    }
   ],
   "source": [
    "print(\"To check how much makeup I have\")\n",
    "print(\"Lipstick\", 25+30+55-7)\n",
    "print(\"Eyeliners\", 9+6-3/2)\n",
    "print(\"Concealers\", 2+3*3)\n",
    "print(\"Now the brushes\")\n",
    "print(3+2+8+2%-5/3)\n",
    "print(\"Now let's look at other cases.\")\n",
    "print(\"3+2<6+8 true or false?\")\n",
    "print(3+2<6+8)\n",
    "print(\"whats is 3+2?\", 3+2)\n",
    "print(\"what is 6+8?\", 6+8)\n",
    "print(\"Better a bigger operation 15+16+21-3*66+75/2+300 =\", 15+16+21-3*66+75/2+300)\n"
   ]
  },
  {
   "cell_type": "markdown",
   "metadata": {},
   "source": [
    "# EXCERCISE 4"
   ]
  },
  {
   "cell_type": "markdown",
   "metadata": {},
   "source": [
    "## VARIABLES AND NAMES"
   ]
  },
  {
   "cell_type": "markdown",
   "metadata": {},
   "source": [
    "Here you learn how to use variables, and what are variables? programming are the names of things or with which we will identify some object. \n",
    "\n",
    "They are used to make it easier to read and avoid forgetting some things, you have to use names that are easily remembered to not forget them and know the values of those variables.\n",
    "\n",
    "The following is the following example:"
   ]
  },
  {
   "cell_type": "code",
   "execution_count": 39,
   "metadata": {},
   "outputs": [
    {
     "name": "stdout",
     "output_type": "stream",
     "text": [
      "The total of lipstick are 600\n",
      "we can only buy 25 per person\n",
      "we just have 200 of the color Red\n",
      "They broke 52 of total lipsticks\n",
      "I only saw 300 lipsticks\n"
     ]
    }
   ],
   "source": [
    "Lipstick = 600\n",
    "broke= 548\n",
    "Red = 200\n",
    "Pink = 100\n",
    "Nude=300\n",
    "Maxi = 25\n",
    "lost= Lipstick-broke\n",
    "color= Pink+Red\n",
    "\n",
    "print(\"The total of lipstick are\", Lipstick)\n",
    "print(\"we can only buy\", Maxi, \"per person\")\n",
    "print(\"we just have\",Red, \"of the color Red\")\n",
    "print(\"They broke\", lost, \"of total lipsticks\")\n",
    "print(\"I only saw\",color,\"lipsticks\")"
   ]
  },
  {
   "cell_type": "markdown",
   "metadata": {},
   "source": [
    "# EXCERCISE 5"
   ]
  },
  {
   "cell_type": "markdown",
   "metadata": {},
   "source": [
    "## MORE VARIABLES AND PRINTING"
   ]
  },
  {
   "cell_type": "markdown",
   "metadata": {},
   "source": [
    "\n",
    "Once we learn a bit about variables and how they work we will do something a little more complicated, we will do something called \"string format\", Every time you put \"(double quotes) around a piece of text that you have been making a String.\n",
    "So in this army we will learn how to do them.\n",
    "\n",
    "A special symbol is used to place them that is this {} and you also need to place the letter f to specify that it is a string."
   ]
  },
  {
   "cell_type": "code",
   "execution_count": 47,
   "metadata": {},
   "outputs": [
    {
     "name": "stdout",
     "output_type": "stream",
     "text": [
      "Today I will tell you about my puppy Hope\n",
      "It has a fur of color white\n",
      "and a big black eyes\n",
      "It is veryplayful\n",
      "It has 1 year old\n",
      "measure around 50but I'm not sure\n",
      "I am around three Hope cause I'm 154cm and if you multiply it's weight by trhee you obtain 150 that is very close to mine\n",
      "It is my Best friend\n"
     ]
    }
   ],
   "source": [
    "my_dog='Hope'\n",
    "it_color= 'white'\n",
    "it_eyes='black'\n",
    "way_of_being= 'playful'\n",
    "it_age= '1 year old'\n",
    "my= 'Best friend'\n",
    "large= 50 #cm\n",
    "my_weight=154 #cm\n",
    "by_3= large*3\n",
    "\n",
    "print(f\"Today I will tell you about my puppy {my_dog}\")\n",
    "print(f\"It has a fur of color {it_color}\")\n",
    "print(f\"and a big {it_eyes} eyes\")\n",
    "print(f\"It is very{way_of_being}\")\n",
    "print(f\"It has {it_age}\")\n",
    "print(f\"measure around {large}but I'm not sure\")\n",
    "print(f\"I am around three {my_dog} cause I'm 154cm and if you multiply it's weight by trhee you obtain {by_3} that is very close to mine\")\n",
    "print(f\"It is my {my}\")"
   ]
  },
  {
   "cell_type": "markdown",
   "metadata": {},
   "source": [
    "# EXCERCISE 6"
   ]
  },
  {
   "cell_type": "markdown",
   "metadata": {},
   "source": [
    "## Strings and Text "
   ]
  },
  {
   "cell_type": "markdown",
   "metadata": {},
   "source": [
    "A string is usually a bit of text you want to display to someone or ”export” out of the program you are\n",
    "writing.\n",
    "Strings can contain any number of variables that are in your Python script."
   ]
  },
  {
   "cell_type": "code",
   "execution_count": 1,
   "metadata": {},
   "outputs": [
    {
     "name": "stdout",
     "output_type": "stream",
     "text": [
      "example of hero.\n",
      "a hero , elemental, destiny or masked  , always win at the end , so what kind of hero are you \n",
      "be a hero\n",
      "i said: a hero , elemental, destiny or masked  , always win at the end , so what kind of hero are you \n",
      " also i said be a hero\n"
     ]
    }
   ],
   "source": [
    "jayden= \"hero\"\n",
    "x= f\"example of {jayden}.\"\n",
    "\n",
    "KH= \"elemental, destiny or masked \" \n",
    "FM= \"win at the end\"\n",
    "FFM= \"so what kind of hero are you \"\n",
    "\n",
    "y= f\"a hero , {KH} , always {FM} , {FFM}\"\n",
    "w= f\"be a hero\"\n",
    "\n",
    "print (x)\n",
    "print (y)\n",
    "print (w)\n",
    "\n",
    "print (f\"i said: {y}\")\n",
    "print (f\" also i said {w}\")"
   ]
  },
  {
   "cell_type": "markdown",
   "metadata": {},
   "source": [
    "# EXCERCISE 7"
   ]
  },
  {
   "cell_type": "markdown",
   "metadata": {},
   "source": [
    "## More Printing"
   ]
  },
  {
   "cell_type": "markdown",
   "metadata": {},
   "source": [
    "Now we are going to practice writing code using what we learned in the previous exercises."
   ]
  },
  {
   "cell_type": "code",
   "execution_count": 2,
   "metadata": {},
   "outputs": [
    {
     "name": "stdout",
     "output_type": "stream",
     "text": [
      "jayden draw a card.\n",
      "that card is what will win this duel.\n",
      "and that card is.\n",
      "..........\n",
      "polymerization "
     ]
    }
   ],
   "source": [
    "print (\"jayden draw a card.\")\n",
    "print (\"that card is what will win this duel.\")\n",
    "print (\"and that card is.\")\n",
    "print (\".\"*10)\n",
    "\n",
    "end1= \"p\"\n",
    "end2= \"o\"\n",
    "end3= \"l\"\n",
    "end4= \"y\"\n",
    "end5= \"m\"\n",
    "end6= \"e\"\n",
    "end7= \"r\"\n",
    "end8= \"i\"\n",
    "end9= \"z\"\n",
    "end10= \"a\"\n",
    "end11= \"t\"\n",
    "end12= \"i\"\n",
    "end13= \"o\"\n",
    "end14= \"n\"\n",
    "\n",
    "print(end1+end2+end3+end4+end5+end6+end7+end8+end9+end10+end11+end12+end13+end14,end=' ')"
   ]
  },
  {
   "cell_type": "markdown",
   "metadata": {},
   "source": [
    "# EXCERCISE 8"
   ]
  },
  {
   "cell_type": "markdown",
   "metadata": {},
   "source": [
    "## Printing, Printing"
   ]
  },
  {
   "cell_type": "markdown",
   "metadata": {},
   "source": [
    "Now we will see how to do a more complicated formatting of a string.\n",
    "\n",
    "In this exercise \"function\" is used to convert the formatter variable to other strings.\n",
    "When you write formatter.format (...) we tell python to do the following:\n",
    "1.- Take the formatter string defined in line 1.\n",
    "2.- Call your format function, which is similar to telling you to do a command line command called\n",
    "Format.\n",
    "3.- Pass to format four arguments, which match up with the four {} in the formatter variable. This\n",
    "is like passing arguments to the command line command format.\n",
    "4.- The result of calling format on formatter is a new string that has the {} replaced with the four\n",
    "variables. This is what print is now printing out."
   ]
  },
  {
   "cell_type": "code",
   "execution_count": 3,
   "metadata": {},
   "outputs": [
    {
     "name": "stdout",
     "output_type": "stream",
     "text": [
      "1 2 3 4\n",
      "one two three four\n",
      "True False False True\n",
      "{} {} {} {} {} {} {} {} {} {} {} {} {} {} {} {}\n",
      "I'm not a perfect person There's many thing I wish I didn't do But I continue learning I never meant to do those things to you\n"
     ]
    }
   ],
   "source": [
    "formatter = \"{} {} {} {}\"\n",
    "\n",
    "print(formatter.format(1, 2, 3, 4))\n",
    "print(formatter.format(\"one\", \"two\", \"three\", \"four\"))\n",
    "print(formatter.format(True, False, False, True))\n",
    "print(formatter.format(formatter, formatter, formatter, formatter))\n",
    "print(formatter.format(\n",
    "\"I'm not a perfect person\",\n",
    "\"There's many thing I wish I didn't do\",\n",
    "\"But I continue learning\",\n",
    "\"I never meant to do those things to you\"\n",
    " ))\n"
   ]
  },
  {
   "cell_type": "markdown",
   "metadata": {},
   "source": [
    "# EXCERCISE 9"
   ]
  },
  {
   "cell_type": "markdown",
   "metadata": {},
   "source": [
    "## Printing, Printing, Printing"
   ]
  },
  {
   "cell_type": "markdown",
   "metadata": {},
   "source": [
    "Here we will continue practicing more than we did in exercise 7.\n",
    "\n",
    "A chain was made that crosses several lines. In the first form, you put the characters \\ n (backslash n) between\n",
    "Character names These two characters put a new line character in the string at that point.\n",
    "This character \\ (backslash) encodes characters that are difficult to write in a string."
   ]
  },
  {
   "cell_type": "code",
   "execution_count": 4,
   "metadata": {},
   "outputs": [
    {
     "name": "stdout",
     "output_type": "stream",
     "text": [
      "Here are the heros:  EVIL ELEMENTAL DESTINY MASKED XTRA VISION\n",
      "Here are the attributes:  \n",
      "dark\n",
      "wind\n",
      "fire\n",
      "water\n",
      "light\n",
      "ground\n"
     ]
    }
   ],
   "source": [
    "heros = \"EVIL ELEMENTAL DESTINY MASKED XTRA VISION\"\n",
    "attributes = \"\\ndark\\nwind\\nfire\\nwater\\nlight\\nground\"\n",
    "\n",
    "print(\"Here are the heros: \", heros)\n",
    "print(\"Here are the attributes: \", attributes)\n"
   ]
  },
  {
   "cell_type": "markdown",
   "metadata": {},
   "source": [
    "# EXCERCISE 10"
   ]
  },
  {
   "cell_type": "markdown",
   "metadata": {},
   "source": [
    "## What Was That?"
   ]
  },
  {
   "cell_type": "markdown",
   "metadata": {},
   "source": [
    "here we are practicing with the spacing and breaks as well as in the previous exercise."
   ]
  },
  {
   "cell_type": "code",
   "execution_count": 6,
   "metadata": {},
   "outputs": [
    {
     "name": "stdout",
     "output_type": "stream",
     "text": [
      "\tI'm important hero.\n",
      "I'm the main\\hero of jayden.\n",
      "I'm \\ a \\ hero.\n",
      "\n",
      "this is my other friends:\n",
      "\t* other neos\n",
      "\t* wiseman\n",
      "\t* neospacian\n",
      "\t* yubel\n",
      " \n"
     ]
    }
   ],
   "source": [
    "EH_sparkman = \"\\tI'm important hero.\"\n",
    "EH_neos = \"I'm the main\\hero of jayden.\"\n",
    "H_kid = \"I'm \\\\ a \\\\ hero.\"\n",
    "\n",
    "other_hero = \"\"\"\n",
    "this is my other friends:\n",
    "\\t* other neos\n",
    "\\t* wiseman\n",
    "\\t* neospacian\\n\\t* yubel\n",
    " \"\"\"\n",
    "\n",
    "print(EH_sparkman)\n",
    "print(EH_neos)\n",
    "print(H_kid)\n",
    "print(other_hero)"
   ]
  },
  {
   "cell_type": "markdown",
   "metadata": {},
   "source": [
    "Cruz Rodriguez Emmanuel\n",
    "Del Angel Mendoza Ana Gabriela"
   ]
  }
 ],
 "metadata": {
  "kernelspec": {
   "display_name": "Python 3",
   "language": "python",
   "name": "python3"
  },
  "language_info": {
   "codemirror_mode": {
    "name": "ipython",
    "version": 3
   },
   "file_extension": ".py",
   "mimetype": "text/x-python",
   "name": "python",
   "nbconvert_exporter": "python",
   "pygments_lexer": "ipython3",
   "version": "3.7.4"
  }
 },
 "nbformat": 4,
 "nbformat_minor": 2
}
