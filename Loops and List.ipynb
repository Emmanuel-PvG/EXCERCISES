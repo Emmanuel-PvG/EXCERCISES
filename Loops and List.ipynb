{
 "cells": [
  {
   "cell_type": "code",
   "execution_count": 1,
   "metadata": {},
   "outputs": [
    {
     "name": "stdout",
     "output_type": "stream",
     "text": [
      "how much data do you want introduce? 3\n",
      "introduce age: 12\n",
      "this is your sample: \n",
      "introduce age: 13\n",
      "this is your sample: \n",
      "introduce age: 14\n",
      "this is your sample: \n",
      "12 13 14 \n",
      "The sample mean is = 13.0\n"
     ]
    }
   ],
   "source": [
    "values = int(input(\"how much data do you want introduce? \"))\n",
    "ages = []\n",
    "total = 0\n",
    "for i in range(0,values):\n",
    "    x = int(input(\"introduce age: \"))\n",
    "    ages.append(x)\n",
    "    total += x\n",
    "    print(\"this is your sample: \")\n",
    "    \n",
    "for age in ages:\n",
    "    print(age, end = ' ')\n",
    "    \n",
    "sample_mean = total/values\n",
    "\n",
    "print(f\"\\nThe sample mean is = {sample_mean}\")"
   ]
  },
  {
   "cell_type": "code",
   "execution_count": 10,
   "metadata": {
    "scrolled": true
   },
   "outputs": [
    {
     "name": "stdout",
     "output_type": "stream",
     "text": [
      "how many names will you introduce? 5\n",
      "introduce the name: dawn\n",
      "introduce the name: jayden\n",
      "introduce the name: asther\n",
      "introduce the name: yohi\n",
      "introduce the name: manu\n",
      "dawn jayden asther yohi manu choose you favorite name 4\n",
      "manu\n"
     ]
    }
   ],
   "source": [
    "varnom = int(input(\"how many names will you introduce? \"))\n",
    "names = []\n",
    "\n",
    "for i in range(0,varnom):\n",
    "    x = str(input(\"introduce the name: \"))\n",
    "    names.append(x)\n",
    "\n",
    "for name in names:\n",
    "    print(name, end = ' ')\n",
    "    \n",
    "soja=int(input(\"choose you favorite name \"))\n",
    "print(names[soja])"
   ]
  },
  {
   "cell_type": "code",
   "execution_count": null,
   "metadata": {},
   "outputs": [],
   "source": []
  },
  {
   "cell_type": "code",
   "execution_count": null,
   "metadata": {},
   "outputs": [],
   "source": []
  }
 ],
 "metadata": {
  "kernelspec": {
   "display_name": "Python 3",
   "language": "python",
   "name": "python3"
  },
  "language_info": {
   "codemirror_mode": {
    "name": "ipython",
    "version": 3
   },
   "file_extension": ".py",
   "mimetype": "text/x-python",
   "name": "python",
   "nbconvert_exporter": "python",
   "pygments_lexer": "ipython3",
   "version": "3.7.4"
  }
 },
 "nbformat": 4,
 "nbformat_minor": 2
}
