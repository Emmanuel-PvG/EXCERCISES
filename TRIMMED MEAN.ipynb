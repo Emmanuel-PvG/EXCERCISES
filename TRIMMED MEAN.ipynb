{
 "cells": [
  {
   "cell_type": "markdown",
   "metadata": {},
   "source": [
    "# Program for calculate the treammed mean"
   ]
  },
  {
   "cell_type": "markdown",
   "metadata": {},
   "source": [
    "Develop a program that calculate treammed mean. The user have to introduce the set of data and the percentaje they eant to use "
   ]
  },
  {
   "cell_type": "code",
   "execution_count": 3,
   "metadata": {
    "scrolled": true
   },
   "outputs": [
    {
     "name": "stdout",
     "output_type": "stream",
     "text": [
      "Write the trimmed percent: 10\n",
      "value: 10\n",
      "You have this values [10.0]\n",
      "Add more values so that the operation is valid\n",
      "value: 11\n",
      "You have this values [10.0, 11.0]\n",
      "Add more values so that the operation is valid\n",
      "value: 11\n",
      "You have this values [10.0, 11.0, 11.0]\n",
      "Press 0 to finish the program\n",
      "Press any number to continue= 1\n",
      "value: 15\n",
      "You have this values [10.0, 11.0, 11.0, 15.0]\n",
      "Press 0 to finish the program\n",
      "Press any number to continue= 1\n",
      "value: 15\n",
      "You have this values [10.0, 11.0, 11.0, 15.0, 15.0]\n",
      "Press 0 to finish the program\n",
      "Press any number to continue= 1\n",
      "value: 15\n",
      "You have this values [10.0, 11.0, 11.0, 15.0, 15.0, 15.0]\n",
      "Press 0 to finish the program\n",
      "Press any number to continue= 1\n",
      "value: 16\n",
      "You have this values [10.0, 11.0, 11.0, 15.0, 15.0, 15.0, 16.0]\n",
      "Press 0 to finish the program\n",
      "Press any number to continue= 1\n",
      "value: 17\n",
      "You have this values [10.0, 11.0, 11.0, 15.0, 15.0, 15.0, 16.0, 17.0]\n",
      "Press 0 to finish the program\n",
      "Press any number to continue= 1\n",
      "value: 17\n",
      "You have this values [10.0, 11.0, 11.0, 15.0, 15.0, 15.0, 16.0, 17.0, 17.0]\n",
      "Press 0 to finish the program\n",
      "Press any number to continue= 1\n",
      "value: 18\n",
      "You have this values [10.0, 11.0, 11.0, 15.0, 15.0, 15.0, 16.0, 17.0, 17.0, 18.0]\n",
      "Press 0 to finish the program\n",
      "Press any number to continue= 1\n",
      "value: 18\n",
      "You have this values [10.0, 11.0, 11.0, 15.0, 15.0, 15.0, 16.0, 17.0, 17.0, 18.0, 18.0]\n",
      "Press 0 to finish the program\n",
      "Press any number to continue= 0\n",
      "The numbers in order= [10.0, 11.0, 11.0, 15.0, 15.0, 15.0, 16.0, 17.0, 17.0, 18.0, 18.0]\n",
      "List with the trimmed percent applied= [11.0, 11.0, 15.0, 15.0, 15.0, 16.0, 17.0, 17.0, 18.0]\n",
      "The trimmed mean is=  15.0\n"
     ]
    }
   ],
   "source": [
    "list1=[]\n",
    "n=0\n",
    "i=0\n",
    "tr=int(input(\"Write the trimmed percent: \"))\n",
    "while i<1:\n",
    "    for a in range(0,1):\n",
    "        num=float(input(\"value: \"))\n",
    "        list1.append(num)\n",
    "        p=tr/100\n",
    "        f=p*(n)\n",
    "        o=int(round(f))\n",
    "        g=o\n",
    "        j=g*2\n",
    "        n+=1 \n",
    "        print(\"You have this values\",list1)\n",
    "        order=sorted(list1)\n",
    "    \n",
    "        if n < 3:\n",
    "            print(\"Add more values so that the operation is valid\")\n",
    "        if n>=3:\n",
    "            y=int(input(\"Press 0 to finish the program\\nPress any number to continue= \"))\n",
    "            if y==0:\n",
    "                print(\"The numbers in order=\",order)\n",
    "                rc=order[g:-g]\n",
    "                print(\"List with the trimmed percent applied=\",rc)\n",
    "                k=sum(rc[:])\n",
    "                r=k/(n-j)\n",
    "                print(\"The trimmed mean is= \",r)\n",
    "                i=i+1"
   ]
  },
  {
   "cell_type": "markdown",
   "metadata": {},
   "source": [
    "the program asks the user the percentage that he will use to apply it to the trimmed mean, then the user add the list of numbers that he needed , finally apply the percentage and give the result "
   ]
  }
 ],
 "metadata": {
  "kernelspec": {
   "display_name": "Python 3",
   "language": "python",
   "name": "python3"
  },
  "language_info": {
   "codemirror_mode": {
    "name": "ipython",
    "version": 3
   },
   "file_extension": ".py",
   "mimetype": "text/x-python",
   "name": "python",
   "nbconvert_exporter": "python",
   "pygments_lexer": "ipython3",
   "version": "3.7.4"
  }
 },
 "nbformat": 4,
 "nbformat_minor": 2
}
