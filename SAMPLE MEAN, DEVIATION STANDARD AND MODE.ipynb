{
 "cells": [
  {
   "cell_type": "markdown",
   "metadata": {},
   "source": [
    "# Program for calculate sample mean, deviation standard and mode"
   ]
  },
  {
   "cell_type": "markdown",
   "metadata": {},
   "source": [
    "Develop a program that calculates sample mean, mode and standard deviation based in a set of data introduced by the user."
   ]
  },
  {
   "cell_type": "code",
   "execution_count": null,
   "metadata": {},
   "outputs": [
    {
     "name": "stdout",
     "output_type": "stream",
     "text": [
      "Introduce a value: 12\n",
      "Press 0 to stop \n",
      " if you want to continue press any number: 1\n",
      "Introduce a value: 12\n",
      "Press 0 to stop \n",
      " if you want to continue press any number: 1\n",
      "Introduce a value: 14\n",
      "Press 0 to stop \n",
      " if you want to continue press any number: 1\n",
      "Introduce a value: 15\n",
      "Press 0 to stop \n",
      " if you want to continue press any number: 1\n",
      "Introduce a value: 17\n",
      "Press 0 to stop \n",
      " if you want to continue press any number: 1\n",
      "Introduce a value: 18\n",
      "Press 0 to stop \n",
      " if you want to continue press any number: 1\n",
      "Introduce a value: 18\n",
      "Press 0 to stop \n",
      " if you want to continue press any number: 0\n",
      "\n",
      "1-Sample mean\n",
      "2-Mode\n",
      "3-Standard deviation\n",
      "Press the number of the operation that you want: 3\n",
      " this is you standard deviation 2.6095064302514777 \n",
      "have a good day and dont forget the salsa of soja\n"
     ]
    }
   ],
   "source": [
    "i=0\n",
    "n=0\n",
    "sum_x=0\n",
    "xl=[]\n",
    "mode=[]\n",
    "sb=0\n",
    "while i<1:\n",
    "    \n",
    "    for a in range(0,1):\n",
    "        x=float(input(\"Introduce a value: \"))\n",
    "        mode.append(x)\n",
    "        xl.append(x)\n",
    "        sum_x+=x\n",
    "        n+=1\n",
    "        y=int(input(\"Press 0 to stop \\n if you want to continue press any number: \"))\n",
    "        if y ==0:\n",
    "            print(\"\\n1-Sample mean\\n2-Mode\\n3-Standard deviation\")\n",
    "            op=int(input(\"Press the number of the operation that you want: \"))\n",
    "            if op==1:\n",
    "                sample_mean=(sum_x)/n\n",
    "                print(f\"this is you sample mean {sample_mean} \" )\n",
    "            if op==2:\n",
    "                repeat = 0\n",
    "                for k in mode:\n",
    "                    times = mode.count(k)\n",
    "                    if times > repeat:\n",
    "                        repeat = times   \n",
    "                modes = []\n",
    "                for k in mode:\n",
    "                    times = mode.count(k)\n",
    "                    if times == repeat and k not in modes:\n",
    "                        modes.append(k)\n",
    "                print (\"mode:\", modes)  \n",
    "            if op==3:\n",
    "                for s in range(0,1):\n",
    "                    sample_mean=(sum_x)/n\n",
    "                    xl[:] = [(x - sample_mean)**2 for x in xl]\n",
    "                    sb=sum(xl[:])\n",
    "                    sq=sb/(n-1)\n",
    "                    s=sq**0.5\n",
    "                    print(f\" this is you standard deviation {s} \" )\n",
    "            \n",
    "            print(\"have a good day and dont forget the salsa of soja\")\n",
    "            \n",
    "            "
   ]
  },
  {
   "cell_type": "code",
   "execution_count": null,
   "metadata": {},
   "outputs": [],
   "source": []
  }
 ],
 "metadata": {
  "kernelspec": {
   "display_name": "Python 3",
   "language": "python",
   "name": "python3"
  },
  "language_info": {
   "codemirror_mode": {
    "name": "ipython",
    "version": 3
   },
   "file_extension": ".py",
   "mimetype": "text/x-python",
   "name": "python",
   "nbconvert_exporter": "python",
   "pygments_lexer": "ipython3",
   "version": "3.7.4"
  }
 },
 "nbformat": 4,
 "nbformat_minor": 2
}
