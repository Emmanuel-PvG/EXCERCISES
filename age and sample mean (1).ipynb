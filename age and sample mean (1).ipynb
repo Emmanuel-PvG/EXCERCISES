{
 "cells": [
  {
   "cell_type": "code",
   "execution_count": 1,
   "metadata": {},
   "outputs": [
    {
     "name": "stdout",
     "output_type": "stream",
     "text": [
      "what is your name? Emmanuel\n",
      "Hi,Emmanuel\n",
      "How old are you ?19\n",
      "you are 19 ? amazing!\n"
     ]
    }
   ],
   "source": [
    "print(\"what is your name?\", end = ' ')\n",
    "name = input()\n",
    "print(f\"Hi,{name}\")\n",
    "age = int(input(\"How old are you ?\"))\n",
    "print(f\"you are {age} ? amazing!\")"
   ]
  },
  {
   "cell_type": "code",
   "execution_count": 5,
   "metadata": {
    "scrolled": true
   },
   "outputs": [
    {
     "name": "stdout",
     "output_type": "stream",
     "text": [
      "how old are you?\n",
      "please put you age 19\n",
      "also you 20\n",
      "and you 18\n",
      "this is your sample mean, 19.0\n"
     ]
    }
   ],
   "source": [
    "print(\"how old are you?\")\n",
    "\n",
    "age1 = int(input(\"please put you age \"))\n",
    "age2 = int(input(\"also you \"))\n",
    "age3 = int(input(\"and you \"))\n",
    "\n",
    "prom = ((age1 + age2 + age3)/3)\n",
    "\n",
    "print(f\"this is your sample mean, {prom}\")"
   ]
  },
  {
   "cell_type": "markdown",
   "metadata": {},
   "source": [
    "Cruz Rodriguez Emmanuel 3C\n",
    "Del Angel Mendoza Ana Gabriela 3C"
   ]
  }
 ],
 "metadata": {
  "kernelspec": {
   "display_name": "Python 3",
   "language": "python",
   "name": "python3"
  },
  "language_info": {
   "codemirror_mode": {
    "name": "ipython",
    "version": 3
   },
   "file_extension": ".py",
   "mimetype": "text/x-python",
   "name": "python",
   "nbconvert_exporter": "python",
   "pygments_lexer": "ipython3",
   "version": "3.7.4"
  }
 },
 "nbformat": 4,
 "nbformat_minor": 2
}
