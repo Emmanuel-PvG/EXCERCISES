{
 "cells": [
  {
   "cell_type": "markdown",
   "metadata": {},
   "source": [
    "# EXCERCISE N°13\n",
    "## PARAMETERS, UNPACKING, VARIABLES\n",
    "\n",
    "In this exercise we will change the input variables to a script. Then this program will show"
   ]
  },
  {
   "cell_type": "code",
   "execution_count": null,
   "metadata": {},
   "outputs": [],
   "source": [
    "from sys import argv\n",
    "\n",
    "script, first, second, third = argv\n",
    "\n",
    "print(\"The script is called:\", script)\n",
    "print(\"Your first variable is:\", first)\n",
    "print(\"Your second variable is:\", second)\n",
    "print(\"Your third variable is:\", third)"
   ]
  },
  {
   "cell_type": "markdown",
   "metadata": {},
   "source": [
    "# EXCERCISE N°14\n",
    "## PROMPTING AND PASSING\n",
    "\n",
    "In this excercise we are gonna use teh argv and input together to ask the user something specific."
   ]
  },
  {
   "cell_type": "code",
   "execution_count": null,
   "metadata": {},
   "outputs": [],
   "source": [
    "from sys import argv\n",
    "\n",
    "script, user_name = argv\n",
    "prompt = '>'\n",
    "\n",
    "print(f\"Hi {user_name}, I'm the {script} script.\")\n",
    "print(\"I'd like to ask you a few questions.\")\n",
    "print(f\"Do you like me {user_name}?\")\n",
    "likes = imput(prompt)\n",
    "\n",
    "print(f\"Whre do you live {user_name}?\")\n",
    "lives = input(prompt)\n",
    "\n",
    "print(\"what kind of computer do you have?\")\n",
    "computer = input(prompt)\n",
    "\n",
    "print(f\"\"\"\n",
    "Alright, so you said {likes} about liking me.\n",
    "You live in {lives}. Not sure where that is.\n",
    "And you have a {computer} computer. nice.\n",
    "\"\"\")"
   ]
  },
  {
   "cell_type": "markdown",
   "metadata": {},
   "source": [
    "# EXERCISE N°15\n",
    "## READING FILES\n",
    "\n",
    "This excercise involves writing two files. This second file isn't a script but a plain text file we'll be reading in our script"
   ]
  },
  {
   "cell_type": "code",
   "execution_count": null,
   "metadata": {},
   "outputs": [],
   "source": [
    "from sys import argv\n",
    "\n",
    "script, filename = argv\n",
    "\n",
    "txt = open(filename)\n",
    "\n",
    "print(txt.read())\n",
    "\n",
    "print(\"Type the filename again:\")\n",
    "file_again = input(\"> \")\n",
    "\n",
    "txt_again = open(file_again)\n",
    "\n",
    "print(txt_again.read())"
   ]
  },
  {
   "cell_type": "markdown",
   "metadata": {},
   "source": [
    "# EXERCISE N°16\n",
    "## READING AND WRITING FILES\n",
    "\n",
    "In this exercise we will learn to use the commands, some also take parameters but in this exercise we will make a small text editor"
   ]
  },
  {
   "cell_type": "code",
   "execution_count": null,
   "metadata": {},
   "outputs": [],
   "source": [
    "from sys import argv\n",
    "\n",
    "script, filename = argv\n",
    "\n",
    "print(f\"We're going to erase {filename}.\")\n",
    "print(\"If you don't want that, hit CTRL-C (^C).\")\n",
    "print(\"If you do want that, hit RETURN.\")\n",
    "\n",
    "input(\"?\")\n",
    "\n",
    "print(\"Opening the file...\")\n",
    "target = open(filename, 'w')\n",
    "\n",
    "print(\"Truncating the file. Goodbye!\")\n",
    "target.truncate()\n",
    "\n",
    "print(\"Now I'm going to ask you for three lines.\")\n",
    "\n",
    "line1 = input(\"line 1: \")\n",
    "line2 = input(\"line 2: \")\n",
    "line3 = input(\"line 3: \")\n",
    "\n",
    "print(\"I'm going to write these to the file.\")\n",
    "\n",
    "target.write(line1)\n",
    "target.write(\"\\n\")\n",
    "target.write(line2)\n",
    "target.write(\"\\n\")\n",
    "target.write(line3)\n",
    "target.write(\"\\n\")\n",
    "\n",
    "print(\"And finally, we close it.\")\n",
    "target.close()"
   ]
  },
  {
   "cell_type": "markdown",
   "metadata": {},
   "source": [
    "# EXERCISE N°17\n",
    "## MORE FILES\n",
    "\n",
    "In this exercise we will learn to use the files, and it will give us the idea of how to do several things with them"
   ]
  },
  {
   "cell_type": "code",
   "execution_count": null,
   "metadata": {},
   "outputs": [],
   "source": [
    "from sys import argv\n",
    "from os.path import exists\n",
    "\n",
    "script, from_file, to_file = argv\n",
    "\n",
    "print(f\"Copying from {from_file} to {to_file}\")\n",
    "\n",
    "#we could do these two on one line, how?\n",
    "in_file = open(from_file)\n",
    "indata = in_file.read()\n",
    "\n",
    "print(f\"The input file is {len(indata)} bytes long\")\n",
    "\n",
    "print(f\"Does the output file exist? {exists(to_file)}\")\n",
    "print(\"Ready, hit RETURN to continue, CTRL-C to abort.\")\n",
    "input()\n",
    "\n",
    "out-file = open(to_file, 'w')\n",
    "out_file.write(indata)\n",
    "\n",
    "print(\"Alright, all done.\")\n",
    "\n",
    "out_file.close()\n",
    "in_file.close()"
   ]
  },
  {
   "cell_type": "markdown",
   "metadata": {},
   "source": [
    "# EXERCISE N°18\n",
    "# NAMES, VARIABLES, CODE, FUNCTIONS\n",
    "\n",
    "The functions do three things:\n",
    "\n",
    "*They name pieces of code the xay variables name strings and numbers\n",
    "\n",
    "*They take argumnts the way your scripts take argv\n",
    "\n",
    "*Using 1 and 2, they let you make your own \"mini.scripts\" or \"tiny commands\"\n",
    "\n",
    "We can create a function by using the word def in Python"
   ]
  },
  {
   "cell_type": "code",
   "execution_count": null,
   "metadata": {},
   "outputs": [],
   "source": [
    "def print_two(*args):\n",
    "    arg1 ,  arg2 = args\n",
    "    print(f\"arg1: {arg1}, arg2: {arg2}\")\n",
    "    \n",
    "def print_two_again(arg1 ,  arg2):\n",
    "    print(f\"arg1: {arg1}, arg2 {arg2}\")\n",
    "\n",
    "def print_one(arg1):\n",
    "    print(f\"arg1: {arg1}\")\n",
    "\n",
    "def print_none():\n",
    "    print(\"I got nothing'.\")\n",
    "    \n",
    "    \n",
    "\n",
    "print_two(\"Zed\",\"Shaw\")\n",
    "print_two_again(\"Zed\",\"Shaw\")\n",
    "print_one(\"First!\")\n",
    "print_none()"
   ]
  },
  {
   "cell_type": "markdown",
   "metadata": {},
   "source": [
    "Del Angel Mendoza Ana Gabriela"
   ]
  },
  {
   "cell_type": "markdown",
   "metadata": {},
   "source": [
    "# EXERCISE N°19\n",
    "## Functions and Variables \n"
   ]
  },
  {
   "cell_type": "markdown",
   "metadata": {},
   "source": [
    "This shows all the different ways we’re able to give our function of the values it\n",
    "needs to print them. We can give it straight numbers. We can give it variables. We can give it math. We\n",
    "can even combine math and variables.\n"
   ]
  },
  {
   "cell_type": "code",
   "execution_count": 5,
   "metadata": {
    "scrolled": true
   },
   "outputs": [
    {
     "name": "stdout",
     "output_type": "stream",
     "text": [
      "We can just give the function numbers directly:\n",
      "you have 30 heros\n",
      "you have 15 fusions of heros\n",
      "bro that's enough for a duel!\n",
      "OR, we can use variables from our script:\n",
      "you have 20 heros\n",
      "you have 10 fusions of heros\n",
      "bro that's enough for a duel!\n",
      "We can even do math inside too:\n",
      "you have 50 heros\n",
      "you have 25 fusions of heros\n",
      "bro that's enough for a duel!\n",
      "And we can combine the two, variables and math:\n",
      "you have 220 heros\n",
      "you have 80 fusions of heros\n",
      "bro that's enough for a duel!\n"
     ]
    }
   ],
   "source": [
    "def heros_and_fusions(hero_count, fusions_of_heros):\n",
    "    print(f\"you have {hero_count} heros\" )\n",
    "    print(f\"you have { fusions_of_heros} fusions of heros\")\n",
    "    print(\"bro that's enough for a duel!\")\n",
    "    \n",
    "print(\"We can just give the function numbers directly:\") \n",
    "heros_and_fusions(30, 15)\n",
    "    \n",
    "print(\"OR, we can use variables from our script:\") \n",
    "amount_of_heros = 20 \n",
    "amount_of_fusions_of_heros = 10\n",
    "heros_and_fusions(amount_of_heros, amount_of_fusions_of_heros)\n",
    "\n",
    "print(\"We can even do math inside too:\") \n",
    "heros_and_fusions(30 + 20, 15 + 10)\n",
    "\n",
    "print(\"And we can combine the two, variables and math:\") \n",
    "heros_and_fusions(amount_of_heros + 200, amount_of_fusions_of_heros + 70)"
   ]
  },
  {
   "cell_type": "markdown",
   "metadata": {},
   "source": [
    "# EXERCISE N°20\n",
    "## Functions and Files \n"
   ]
  },
  {
   "cell_type": "markdown",
   "metadata": {},
   "source": [
    "here we see how a function and a row work together"
   ]
  },
  {
   "cell_type": "code",
   "execution_count": null,
   "metadata": {},
   "outputs": [],
   "source": [
    "from sys import argv\n",
    "\n",
    "script, input_file = argv\n",
    " \n",
    "def print_all(f): \n",
    "    print(f.read())\n",
    "def rewind(f): \n",
    "    print( f.seek(0))\n",
    "\n",
    "def print_a_line(line_count, f): \n",
    "    print(line_count, f.readline())\n",
    "\n",
    "    current_file = open(input_file)\n",
    "\n",
    "    print(\"First let's print the whole file:\\n\")\n",
    "\n",
    "    print_all(current_file)\n",
    "\n",
    "    print(\"Now let's rewind, kind of like a tape.\") \n",
    "\n",
    "    rewind(current_file) \n",
    "\n",
    "    print(\"Let's print three lines:\")\n",
    "\n",
    "current_line = 1 \n",
    "print_a_line(current_line, current_file)\n",
    " \n",
    "current_line = current_line + 1 \n",
    "print_a_line(current_line, current_file)\n",
    " \n",
    "current_line = current_line + 1 \n",
    "print_a_line(current_line, current_file)"
   ]
  },
  {
   "cell_type": "markdown",
   "metadata": {},
   "source": [
    "# EXERCISE N°21\n",
    "## Functions Can Return Something\n"
   ]
  },
  {
   "cell_type": "markdown",
   "metadata": {},
   "source": [
    "here we will use words to establish\n",
    "variables to be a value of a function."
   ]
  },
  {
   "cell_type": "code",
   "execution_count": 20,
   "metadata": {},
   "outputs": [
    {
     "name": "stdout",
     "output_type": "stream",
     "text": [
      "Let's do some math with just functions!\n",
      "ADDING 19 + 7\n",
      "SUBTRACTING 172 - 10\n",
      "MULTIPLYING 96 * 9\n",
      "DIVIDING 192 / 2\n",
      "Age: 26, Height: 162, Weight: 864, IQ: 96.0\n",
      "Here is a puzzle.\n",
      "DIVIDING 96.0 / 2\n",
      "MULTIPLYING 864 * 48.0\n",
      "SUBTRACTING 162 - 41472.0\n",
      "ADDING 26 + -41310.0\n",
      "That becomes:  -41284.0 Can you do it by hand?\n"
     ]
    }
   ],
   "source": [
    "def add(a, b): \n",
    "    print(f\"ADDING {a} + {b}\") \n",
    "    return a + b\n",
    "\n",
    "def subtract(a, b): \n",
    "    print(f\"SUBTRACTING {a} - {b}\") \n",
    "    return a - b\n",
    "\n",
    "def multiply(a, b): \n",
    "    print(f\"MULTIPLYING {a} * {b}\") \n",
    "    return a * b\n",
    " \n",
    "def divide(a, b): \n",
    "    print(f\"DIVIDING {a} / {b}\") \n",
    "    return a / b \n",
    "\n",
    "print(\"Let's do some math with just functions!\")\n",
    " \n",
    "age = add(19, 7) \n",
    "height = subtract(172, 10) \n",
    "weight = multiply(96, 9) \n",
    "iq = divide(192, 2)\n",
    "print(f\"Age: {age}, Height: {height}, Weight: {weight}, IQ: {iq}\")\n",
    "\n",
    "print(\"Here is a puzzle.\")\n",
    " \n",
    "what = add(age, subtract(height, multiply(weight, divide(iq, 2))))\n",
    " \n",
    "print(\"That becomes: \", what, \"Can you do it by hand?\")"
   ]
  },
  {
   "cell_type": "markdown",
   "metadata": {},
   "source": [
    "# EXERCISE N°40\n",
    "## Modules, Classes, and Objects\n"
   ]
  },
  {
   "cell_type": "markdown",
   "metadata": {},
   "source": [
    "Objects are an encapsulation of variables and functions in a single entity. Objects obtain their variables and functions from classes."
   ]
  },
  {
   "cell_type": "code",
   "execution_count": 29,
   "metadata": {
    "scrolled": true
   },
   "outputs": [
    {
     "name": "stdout",
     "output_type": "stream",
     "text": [
      "I'm sorry that I hurt you\n",
      "It's something I must live with everyday\n",
      "And all the pain I put you throughI wish I could take it all awayAnd be the one who catches all your tearsThat's why I need you to hear\n",
      "And every day that you want to change, that you want to change, yeah\n",
      "I'll help you see it through 'cause I just really want to be with you\n"
     ]
    }
   ],
   "source": [
    "class Song(object): \n",
    "\n",
    "    def __init__(self, lyrics): \n",
    "        self.lyrics = lyrics\n",
    "\n",
    "    def sing_me_a_song(self):      \n",
    "        for line in self.lyrics: \n",
    "            print(line)\n",
    "\n",
    "the_reason = Song([\"I'm sorry that I hurt you\", \n",
    "                    \"It's something I must live with everyday\", \n",
    "                    \"And all the pain I put you through\"\n",
    "                    \"I wish I could take it all away\"\n",
    "                    \"And be the one who catches all your tears\"\n",
    "                    \"That's why I need you to hear\"])\n",
    " \n",
    "waste = Song([\"And every day that you want to change, that you want to change, yeah\", \n",
    "            \"I'll help you see it through 'cause I just really want to be with you\"])\n",
    "the_reason.sing_me_a_song()\n",
    "waste.sing_me_a_song()"
   ]
  },
  {
   "cell_type": "markdown",
   "metadata": {},
   "source": [
    "# EXERCISE N°41\n",
    "## Learning to Speak Object-Oriented\n"
   ]
  },
  {
   "cell_type": "markdown",
   "metadata": {},
   "source": [
    "In this code we will see how to use words to form sentences"
   ]
  },
  {
   "cell_type": "code",
   "execution_count": null,
   "metadata": {},
   "outputs": [
    {
     "name": "stdout",
     "output_type": "stream",
     "text": [
      "building.behavior(comb)\n",
      "> soja\n",
      "ANSWER: From building get the behavior function, call it with params self, comb.\n",
      "\n",
      "\n",
      "class Clover(object):\n",
      "\tdef __init__(self, crib)\n",
      "> hola\n",
      "ANSWER: class Clover has-a __init__ that takes self and crib params.\n",
      "\n",
      "\n",
      "class Cry(object):\n",
      "\tdef cracker(self, chess, channel)\n",
      "> self\n",
      "ANSWER: class Cry has-a function cracker that takes self and chess, channel params.\n",
      "\n",
      "\n",
      "class Birth(Addition):\n",
      "> soja\n",
      "ANSWER: Make a class named Birth that is-a Addition.\n",
      "\n",
      "\n",
      "basket = Achiever()\n",
      "> ball\n",
      "ANSWER: Set basket to an instance of class Achiever.\n",
      "\n",
      "\n",
      "badge.dock = 'duck'\n",
      "> soja\n",
      "ANSWER: From badge get the dock attribute and set it to 'duck'.\n",
      "\n",
      "\n",
      "class Carriage(object):\n",
      "\tdef __init__(self, country)\n"
     ]
    }
   ],
   "source": [
    "import random\n",
    "from urllib.request import urlopen\n",
    "import sys\n",
    "\n",
    "WORD_URL = \"http://learncodethehardway.org/words.txt\"\n",
    "WORDS = []\n",
    "\n",
    "PHRASES = {\n",
    "    \"class %%%(%%%):\":\n",
    "    \"Make a class named %%% that is-a %%%.\",\n",
    "    \"class %%%(object):\\n\\tdef __init__(self, ***)\" :\n",
    "    \"class %%% has-a __init__ that takes self and *** params.\",\n",
    "    \"class %%%(object):\\n\\tdef ***(self, @@@)\":\n",
    "    \"class %%% has-a function *** that takes self and @@@ params.\",\n",
    "    \"*** = %%%()\":\n",
    "    \"Set *** to an instance of class %%%.\",\n",
    "    \"***.***(@@@)\":\n",
    "    \"From *** get the *** function, call it with params self, @@@.\",\n",
    "    \"***.*** = '***'\":\n",
    "    \"From *** get the *** attribute and set it to '***'.\"\n",
    " }\n",
    "\n",
    "if len(sys.argv) == 2 and sys.argv[1] == \"english\":\n",
    "    PHRASE_FIRST = True\n",
    "else:\n",
    "    PHRASE_FIRST = False\n",
    "    \n",
    "for word in urlopen(WORD_URL).readlines():\n",
    "    WORDS.append(str(word.strip(), encoding=\"utf-8\"))\n",
    "    \n",
    "def convert(snippet, phrase):\n",
    "    class_names = [w.capitalize() for w in\n",
    "               random.sample(WORDS, snippet.count(\"%%%\"))]\n",
    "\n",
    "    other_names = random.sample(WORDS, snippet.count(\"***\"))\n",
    "    results = []\n",
    "    param_names = []\n",
    "\n",
    "\n",
    "    for i in range(0, snippet.count(\"@@@\")):\n",
    "\n",
    "        param_count = random.randint(1,3)\n",
    "        param_names.append(', '.join(\n",
    "        random.sample(WORDS, param_count)))\n",
    "    \n",
    "    for sentence in snippet, phrase:\n",
    "        result = sentence[:]\n",
    "        \n",
    "        for word in class_names:\n",
    "            result = result.replace(\"%%%\", word, 1)\n",
    "            \n",
    "        for word in other_names:\n",
    "            result = result.replace(\"***\", word, 1)\n",
    "        \n",
    "        for word in param_names:\n",
    "            result = result.replace(\"@@@\", word, 1)\n",
    "            \n",
    "        results.append(result)\n",
    "    return results\n",
    "\n",
    "try:\n",
    "    while True:\n",
    "        snippets = list(PHRASES.keys())\n",
    "        random.shuffle(snippets)\n",
    "        \n",
    "        for snippet in snippets:\n",
    "            phrase = PHRASES[snippet]\n",
    "            question, answer = convert(snippet, phrase)\n",
    "            if PHRASE_FIRST:\n",
    "                question, answer = answer, question\n",
    "                \n",
    "            print(question)\n",
    "            \n",
    "            input(\"> \")\n",
    "            print(f\"ANSWER: {answer}\\n\\n\")\n",
    "except EOFError:\n",
    "                print(\"\\nBye\")"
   ]
  },
  {
   "cell_type": "markdown",
   "metadata": {},
   "source": [
    "# EXERCISE N°42\n",
    "## Is-A, Has-A, Objects, and Classes"
   ]
  },
  {
   "cell_type": "markdown",
   "metadata": {},
   "source": [
    "here we will see the difference between an object and classes"
   ]
  },
  {
   "cell_type": "code",
   "execution_count": null,
   "metadata": {},
   "outputs": [],
   "source": [
    "class Animal(object):\n",
    "    pass\n",
    "\n",
    "class Dog(Animal):\n",
    "    \n",
    "    def __init__(self, name):\n",
    "        \n",
    "        self.name = name\n",
    "        \n",
    "class Cat(Animal):\n",
    "\n",
    "    def __init__(self, name):\n",
    "        \n",
    "        self.name = name\n",
    "        \n",
    "class Person(object):\n",
    "    \n",
    "    def __init__(self, name):\n",
    "        \n",
    "        self.name = name\n",
    "        \n",
    "        self.pet = None\n",
    "        \n",
    "class Employee(Person):\n",
    "\n",
    "    def __init__(self, name, salary):\n",
    "        \n",
    "        super(Employee, self).__init__(name)\n",
    "        \n",
    "        self.salary = salary\n",
    "        \n",
    "class Fish(object):\n",
    "    pass\n",
    "\n",
    "class Salmon(Fish):\n",
    "    pass\n",
    "\n",
    "class Halibut(Fish):\n",
    "    pass\n",
    "\n",
    "rover = Dog(\"Rover\")\n",
    "\n",
    "satan = Cat(\"Satan\")\n",
    "\n",
    "mary = Person(\"Mary\")\n",
    "\n",
    "mary.pet = satan\n",
    "\n",
    "frank = Employee(\"Frank\", 120000)\n",
    "\n",
    "frank.pet = rover\n",
    "\n",
    "flipper = Fish()\n",
    "\n",
    "crouse = Salmon()\n",
    "\n",
    "harry = Halibut()"
   ]
  },
  {
   "cell_type": "markdown",
   "metadata": {},
   "source": [
    "Cruz Rodriguez Emmanuel"
   ]
  }
 ],
 "metadata": {
  "kernelspec": {
   "display_name": "Python 3",
   "language": "python",
   "name": "python3"
  },
  "language_info": {
   "codemirror_mode": {
    "name": "ipython",
    "version": 3
   },
   "file_extension": ".py",
   "mimetype": "text/x-python",
   "name": "python",
   "nbconvert_exporter": "python",
   "pygments_lexer": "ipython3",
   "version": "3.7.4"
  }
 },
 "nbformat": 4,
 "nbformat_minor": 2
}
